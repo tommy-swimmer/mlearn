{
  "nbformat": 4,
  "nbformat_minor": 0,
  "metadata": {
    "colab": {
      "name": "RNN_for_TimeSeries.ipynb",
      "provenance": [],
      "authorship_tag": "ABX9TyN3Jriirsgw/LLci6WWz6Pb",
      "include_colab_link": true
    },
    "kernelspec": {
      "name": "python3",
      "display_name": "Python 3"
    }
  },
  "cells": [
    {
      "cell_type": "markdown",
      "metadata": {
        "id": "view-in-github",
        "colab_type": "text"
      },
      "source": [
        "<a href=\"https://colab.research.google.com/github/tommy-swimmer/mlearn/blob/master/RNN_for_TimeSeries.ipynb\" target=\"_parent\"><img src=\"https://colab.research.google.com/assets/colab-badge.svg\" alt=\"Open In Colab\"/></a>"
      ]
    },
    {
      "cell_type": "markdown",
      "metadata": {
        "id": "tINAym9x7FEq",
        "colab_type": "text"
      },
      "source": [
        "# Steps\n",
        "\n",
        "Step #1: Load in the data <br />\n",
        "- Same as before, but not the right shape (N X T X D) <br />\n",
        "Step: #2: Build the model <br />\n",
        "- Shown in the code below. <br />\n",
        "Step # 3: Train the model <br />\n",
        "- All machine learning interfaces are the same <br />\n",
        "Step #4: Evaluate the model <br />\n",
        "Step #5: Make predictions <br />\n",
        "- A little tricky, PAY ATTENTION TO SHAPES.\n",
        "\n",
        "# Load in the data\n",
        "- From a sine wave (with and without noise) we will create a supervised learning dataset. <br />\n",
        "-Input: sequence of length T <br />\n",
        "-Output: next value (scalar) <br />\n",
        "Count from t = 0 . . . len(series) - T \n",
        "<br />\n",
        "\n",
        "- Linear Regression expects 2-D input: N X T <br />\n",
        "- RNN Expects 3-D input: N X T X 1\n"
      ]
    },
    {
      "cell_type": "markdown",
      "metadata": {
        "id": "2nDLddKJKdx5",
        "colab_type": "text"
      },
      "source": [
        "# Making predictions\n",
        "\n",
        "- Input shape will be N X T D, output will be N X K <br />\n",
        "\n",
        "- A single time-series input will be a 1-D array of length T."
      ]
    },
    {
      "cell_type": "markdown",
      "metadata": {
        "id": "YkH5pDYaLXgi",
        "colab_type": "text"
      },
      "source": [
        "# Simple RNN Sine Evaluation"
      ]
    },
    {
      "cell_type": "code",
      "metadata": {
        "id": "xTgFHXT266K-",
        "colab_type": "code",
        "colab": {}
      },
      "source": [
        "# Install TensorFlow if needed.\n",
        "# Installing libraries.\n",
        "\n",
        "from tensorflow.keras.layers import Input, SimpleRNN, Dense, Flatten\n",
        "from tensorflow.keras.models import Model\n",
        "from tensorflow.keras.optimizers import SGD, Adam\n",
        "\n",
        "import numpy as np\n",
        "import pandas as pd\n",
        "import matplotlib.pyplot as plt"
      ],
      "execution_count": null,
      "outputs": []
    },
    {
      "cell_type": "code",
      "metadata": {
        "id": "A1Aie2EyL1UU",
        "colab_type": "code",
        "colab": {
          "base_uri": "https://localhost:8080/",
          "height": 265
        },
        "outputId": "69d2995a-e7fe-46cf-d9c0-2043d4d1c06f"
      },
      "source": [
        "# Make the original data\n",
        "series = np.sin(0.1*np.arange(200)) #+ np.random.randn(200)*0.1\n",
        "\n",
        "# Plot it\n",
        "plt.plot(series)\n",
        "plt.show()"
      ],
      "execution_count": null,
      "outputs": [
        {
          "output_type": "display_data",
          "data": {
            "image/png": "[encoded data removed]",
            "text/plain": [
              "<Figure size 432x288 with 1 Axes>"
            ]
          },
          "metadata": {
            "tags": [],
            "needs_background": "light"
          }
        }
      ]
    },
    {
      "cell_type": "code",
      "metadata": {
        "id": "lMcoE-czMJRE",
        "colab_type": "code",
        "colab": {
          "base_uri": "https://localhost:8080/",
          "height": 34
        },
        "outputId": "79b700f8-bb30-4fb8-d4fc-38a7c569a6db"
      },
      "source": [
        "# Build the dataset\n",
        "# let's see if we can use T past values to predict the next value.\n",
        "T = 10\n",
        "D = 1\n",
        "X = []\n",
        "Y = []\n",
        "for t in range(len(series) - T):\n",
        "  x = series[t:t+T]\n",
        "  X.append(x)\n",
        "  y = series[t+T]\n",
        "  Y.append(y)\n",
        "\n",
        "X = np.array(X).reshape(-1, T, 1) # Now the data should be N x T x D\n",
        "Y = np.array(Y)\n",
        "N = len(X)\n",
        "print(\"X.shape\", X.shape, \"Y.shape\", Y.shape)"
      ],
      "execution_count": null,
      "outputs": [
        {
          "output_type": "stream",
          "text": [
            "X.shape (190, 10, 1) Y.shape (190,)\n"
          ],
          "name": "stdout"
        }
      ]
    },
    {
      "cell_type": "code",
      "metadata": {
        "id": "lnm3PDc4M-cb",
        "colab_type": "code",
        "colab": {
          "base_uri": "https://localhost:8080/",
          "height": 1000
        },
        "outputId": "a74bd758-24c2-4e90-8c02-7b1cf4f939d6"
      },
      "source": [
        "# Try the autoregressive RNN model\n",
        "i = Input(shape=(T, 1))\n",
        "x = SimpleRNN(5)(i)\n",
        "x = Dense(1)(x)\n",
        "model = Model(i, x)\n",
        "model.compile(\n",
        "    loss='mse',\n",
        "    optimizer=Adam(lr=0.1),\n",
        ")\n",
        "\n",
        "# Train the RNN\n",
        "r = model.fit(\n",
        "    X[:-N//2], Y[:-N//2],\n",
        "    epochs=80,\n",
        "    validation_data = (X[-N//2:], Y[-N//2:]),\n",
        ")"
      ],
      "execution_count": null,
      "outputs": [
        {
          "output_type": "stream",
          "text": [
            "Epoch 1/80\n",
            "3/3 [==============================] - 0s 50ms/step - loss: 0.2064 - val_loss: 0.1098\n",
            "Epoch 2/80\n",
            "3/3 [==============================] - 0s 13ms/step - loss: 0.1548 - val_loss: 0.1488\n",
            "Epoch 3/80\n",
            "3/3 [==============================] - 0s 13ms/step - loss: 0.0907 - val_loss: 0.0086\n",
            "Epoch 4/80\n",
            "3/3 [==============================] - 0s 14ms/step - loss: 0.0141 - val_loss: 0.0530\n",
            "Epoch 5/80\n",
            "3/3 [==============================] - 0s 12ms/step - loss: 0.0384 - val_loss: 0.0181\n",
            "Epoch 6/80\n",
            "3/3 [==============================] - 0s 13ms/step - loss: 0.0093 - val_loss: 0.0107\n",
            "Epoch 7/80\n",
            "3/3 [==============================] - 0s 13ms/step - loss: 0.0167 - val_loss: 0.0207\n",
            "Epoch 8/80\n",
            "3/3 [==============================] - 0s 12ms/step - loss: 0.0160 - val_loss: 0.0038\n",
            "Epoch 9/80\n",
            "3/3 [==============================] - 0s 12ms/step - loss: 0.0045 - val_loss: 0.0121\n",
            "Epoch 10/80\n",
            "3/3 [==============================] - 0s 12ms/step - loss: 0.0082 - val_loss: 0.0096\n",
            "Epoch 11/80\n",
            "3/3 [==============================] - 0s 14ms/step - loss: 0.0045 - val_loss: 0.0010\n",
            "Epoch 12/80\n",
            "3/3 [==============================] - 0s 12ms/step - loss: 0.0023 - val_loss: 0.0043\n",
            "Epoch 13/80\n",
            "3/3 [==============================] - 0s 14ms/step - loss: 0.0038 - val_loss: 0.0023\n",
            "Epoch 14/80\n",
            "3/3 [==============================] - 0s 14ms/step - loss: 0.0012 - val_loss: 0.0010\n",
            "Epoch 15/80\n",
            "3/3 [==============================] - 0s 13ms/step - loss: 0.0016 - val_loss: 0.0021\n",
            "Epoch 16/80\n",
            "3/3 [==============================] - 0s 13ms/step - loss: 0.0015 - val_loss: 7.2383e-04\n",
            "Epoch 17/80\n",
            "3/3 [==============================] - 0s 13ms/step - loss: 9.0401e-04 - val_loss: 0.0021\n",
            "Epoch 18/80\n",
            "3/3 [==============================] - 0s 12ms/step - loss: 0.0012 - val_loss: 7.2156e-04\n",
            "Epoch 19/80\n",
            "3/3 [==============================] - 0s 12ms/step - loss: 5.1915e-04 - val_loss: 6.4546e-04\n",
            "Epoch 20/80\n",
            "3/3 [==============================] - 0s 12ms/step - loss: 7.8163e-04 - val_loss: 3.9662e-04\n",
            "Epoch 21/80\n",
            "3/3 [==============================] - 0s 18ms/step - loss: 4.1484e-04 - val_loss: 5.9607e-04\n",
            "Epoch 22/80\n",
            "3/3 [==============================] - 0s 12ms/step - loss: 4.7621e-04 - val_loss: 4.5610e-04\n",
            "Epoch 23/80\n",
            "3/3 [==============================] - 0s 12ms/step - loss: 2.3278e-04 - val_loss: 2.6838e-04\n",
            "Epoch 24/80\n",
            "3/3 [==============================] - 0s 12ms/step - loss: 2.9319e-04 - val_loss: 1.9143e-04\n",
            "Epoch 25/80\n",
            "3/3 [==============================] - 0s 13ms/step - loss: 1.8271e-04 - val_loss: 1.8553e-04\n",
            "Epoch 26/80\n",
            "3/3 [==============================] - 0s 14ms/step - loss: 1.8096e-04 - val_loss: 1.6875e-04\n",
            "Epoch 27/80\n",
            "3/3 [==============================] - 0s 13ms/step - loss: 1.0046e-04 - val_loss: 9.0492e-05\n",
            "Epoch 28/80\n",
            "3/3 [==============================] - 0s 13ms/step - loss: 1.2031e-04 - val_loss: 1.0607e-04\n",
            "Epoch 29/80\n",
            "3/3 [==============================] - 0s 12ms/step - loss: 7.6150e-05 - val_loss: 8.9775e-05\n",
            "Epoch 30/80\n",
            "3/3 [==============================] - 0s 14ms/step - loss: 8.8491e-05 - val_loss: 6.8910e-05\n",
            "Epoch 31/80\n",
            "3/3 [==============================] - 0s 12ms/step - loss: 6.2063e-05 - val_loss: 7.0110e-05\n",
            "Epoch 32/80\n",
            "3/3 [==============================] - 0s 12ms/step - loss: 6.4539e-05 - val_loss: 4.9539e-05\n",
            "Epoch 33/80\n",
            "3/3 [==============================] - 0s 12ms/step - loss: 4.9025e-05 - val_loss: 5.1052e-05\n",
            "Epoch 34/80\n",
            "3/3 [==============================] - 0s 13ms/step - loss: 4.4827e-05 - val_loss: 4.1478e-05\n",
            "Epoch 35/80\n",
            "3/3 [==============================] - 0s 13ms/step - loss: 3.7442e-05 - val_loss: 3.9525e-05\n",
            "Epoch 36/80\n",
            "3/3 [==============================] - 0s 13ms/step - loss: 3.4672e-05 - val_loss: 3.5659e-05\n",
            "Epoch 37/80\n",
            "3/3 [==============================] - 0s 12ms/step - loss: 3.6261e-05 - val_loss: 3.4021e-05\n",
            "Epoch 38/80\n",
            "3/3 [==============================] - 0s 12ms/step - loss: 2.9919e-05 - val_loss: 3.1471e-05\n",
            "Epoch 39/80\n",
            "3/3 [==============================] - 0s 12ms/step - loss: 2.8092e-05 - val_loss: 3.0699e-05\n",
            "Epoch 40/80\n",
            "3/3 [==============================] - 0s 14ms/step - loss: 2.8360e-05 - val_loss: 2.8392e-05\n",
            "Epoch 41/80\n",
            "3/3 [==============================] - 0s 12ms/step - loss: 2.4683e-05 - val_loss: 2.8487e-05\n",
            "Epoch 42/80\n",
            "3/3 [==============================] - 0s 13ms/step - loss: 2.5539e-05 - val_loss: 2.9027e-05\n",
            "Epoch 43/80\n",
            "3/3 [==============================] - 0s 14ms/step - loss: 2.6685e-05 - val_loss: 2.8541e-05\n",
            "Epoch 44/80\n",
            "3/3 [==============================] - 0s 12ms/step - loss: 2.1652e-05 - val_loss: 2.7900e-05\n",
            "Epoch 45/80\n",
            "3/3 [==============================] - 0s 13ms/step - loss: 2.1692e-05 - val_loss: 3.0019e-05\n",
            "Epoch 46/80\n",
            "3/3 [==============================] - 0s 12ms/step - loss: 2.2970e-05 - val_loss: 2.9678e-05\n",
            "Epoch 47/80\n",
            "3/3 [==============================] - 0s 12ms/step - loss: 2.2444e-05 - val_loss: 3.4224e-05\n",
            "Epoch 48/80\n",
            "3/3 [==============================] - 0s 13ms/step - loss: 2.6252e-05 - val_loss: 2.9391e-05\n",
            "Epoch 49/80\n",
            "3/3 [==============================] - 0s 17ms/step - loss: 2.3509e-05 - val_loss: 3.0339e-05\n",
            "Epoch 50/80\n",
            "3/3 [==============================] - 0s 13ms/step - loss: 2.0001e-05 - val_loss: 3.3851e-05\n",
            "Epoch 51/80\n",
            "3/3 [==============================] - 0s 12ms/step - loss: 2.0786e-05 - val_loss: 3.4397e-05\n",
            "Epoch 52/80\n",
            "3/3 [==============================] - 0s 12ms/step - loss: 2.1440e-05 - val_loss: 2.9051e-05\n",
            "Epoch 53/80\n",
            "3/3 [==============================] - 0s 12ms/step - loss: 1.5744e-05 - val_loss: 3.3222e-05\n",
            "Epoch 54/80\n",
            "3/3 [==============================] - 0s 12ms/step - loss: 2.3125e-05 - val_loss: 3.6432e-05\n",
            "Epoch 55/80\n",
            "3/3 [==============================] - 0s 12ms/step - loss: 2.7138e-05 - val_loss: 3.7647e-05\n",
            "Epoch 56/80\n",
            "3/3 [==============================] - 0s 12ms/step - loss: 3.5838e-05 - val_loss: 4.3488e-05\n",
            "Epoch 57/80\n",
            "3/3 [==============================] - 0s 12ms/step - loss: 4.0045e-05 - val_loss: 3.1921e-05\n",
            "Epoch 58/80\n",
            "3/3 [==============================] - 0s 12ms/step - loss: 3.1525e-05 - val_loss: 2.6375e-05\n",
            "Epoch 59/80\n",
            "3/3 [==============================] - 0s 15ms/step - loss: 3.3568e-05 - val_loss: 1.9088e-05\n",
            "Epoch 60/80\n",
            "3/3 [==============================] - 0s 14ms/step - loss: 2.8486e-05 - val_loss: 3.9610e-05\n",
            "Epoch 61/80\n",
            "3/3 [==============================] - 0s 12ms/step - loss: 2.6533e-05 - val_loss: 5.1122e-05\n",
            "Epoch 62/80\n",
            "3/3 [==============================] - 0s 15ms/step - loss: 3.2453e-05 - val_loss: 3.1534e-05\n",
            "Epoch 63/80\n",
            "3/3 [==============================] - 0s 13ms/step - loss: 2.9718e-05 - val_loss: 2.1484e-05\n",
            "Epoch 64/80\n",
            "3/3 [==============================] - 0s 13ms/step - loss: 1.8920e-05 - val_loss: 1.5956e-05\n",
            "Epoch 65/80\n",
            "3/3 [==============================] - 0s 13ms/step - loss: 1.9027e-05 - val_loss: 2.1504e-05\n",
            "Epoch 66/80\n",
            "3/3 [==============================] - 0s 13ms/step - loss: 1.8030e-05 - val_loss: 1.7059e-05\n",
            "Epoch 67/80\n",
            "3/3 [==============================] - 0s 12ms/step - loss: 1.3785e-05 - val_loss: 1.7893e-05\n",
            "Epoch 68/80\n",
            "3/3 [==============================] - 0s 15ms/step - loss: 1.5646e-05 - val_loss: 1.5696e-05\n",
            "Epoch 69/80\n",
            "3/3 [==============================] - 0s 13ms/step - loss: 1.2368e-05 - val_loss: 1.5561e-05\n",
            "Epoch 70/80\n",
            "3/3 [==============================] - 0s 13ms/step - loss: 1.1922e-05 - val_loss: 1.7026e-05\n",
            "Epoch 71/80\n",
            "3/3 [==============================] - 0s 12ms/step - loss: 1.3344e-05 - val_loss: 1.6405e-05\n",
            "Epoch 72/80\n",
            "3/3 [==============================] - 0s 14ms/step - loss: 1.3932e-05 - val_loss: 1.5296e-05\n",
            "Epoch 73/80\n",
            "3/3 [==============================] - 0s 12ms/step - loss: 1.1923e-05 - val_loss: 1.4039e-05\n",
            "Epoch 74/80\n",
            "3/3 [==============================] - 0s 12ms/step - loss: 1.1411e-05 - val_loss: 1.4512e-05\n",
            "Epoch 75/80\n",
            "3/3 [==============================] - 0s 12ms/step - loss: 1.1034e-05 - val_loss: 1.4431e-05\n",
            "Epoch 76/80\n",
            "3/3 [==============================] - 0s 12ms/step - loss: 1.1028e-05 - val_loss: 1.3090e-05\n",
            "Epoch 77/80\n",
            "3/3 [==============================] - 0s 12ms/step - loss: 1.1385e-05 - val_loss: 1.3439e-05\n",
            "Epoch 78/80\n",
            "3/3 [==============================] - 0s 14ms/step - loss: 1.0405e-05 - val_loss: 1.3057e-05\n",
            "Epoch 79/80\n",
            "3/3 [==============================] - 0s 12ms/step - loss: 9.9576e-06 - val_loss: 1.2935e-05\n",
            "Epoch 80/80\n",
            "3/3 [==============================] - 0s 12ms/step - loss: 1.0417e-05 - val_loss: 1.6350e-05\n"
          ],
          "name": "stdout"
        }
      ]
    },
    {
      "cell_type": "code",
      "metadata": {
        "id": "Ctgp9oNJNysF",
        "colab_type": "code",
        "colab": {
          "base_uri": "https://localhost:8080/",
          "height": 282
        },
        "outputId": "8af5171c-0023-41db-b7b1-090d5e92c026"
      },
      "source": [
        "# Plot loss per iteration\n",
        "plt.plot(r.history['loss'], label='loss')\n",
        "plt.plot(r.history['val_loss'], label='val_loss')"
      ],
      "execution_count": null,
      "outputs": [
        {
          "output_type": "execute_result",
          "data": {
            "text/plain": [
              "[<matplotlib.lines.Line2D at 0x7f4084681a90>]"
            ]
          },
          "metadata": {
            "tags": []
          },
          "execution_count": 8
        },
        {
          "output_type": "display_data",
          "data": {
            "image/png": "[encoded data removed]",
            "text/plain": [
              "<Figure size 432x288 with 1 Axes>"
            ]
          },
          "metadata": {
            "tags": [],
            "needs_background": "light"
          }
        }
      ]
    }
  ]
}