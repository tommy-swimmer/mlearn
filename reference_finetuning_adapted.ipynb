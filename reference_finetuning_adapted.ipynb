{
  "nbformat": 4,
  "nbformat_minor": 0,
  "metadata": {
    "kernelspec": {
      "display_name": "Python 3",
      "language": "python",
      "name": "python3"
    },
    "language_info": {
      "codemirror_mode": {
        "name": "ipython",
        "version": 3
      },
      "file_extension": ".py",
      "mimetype": "text/x-python",
      "name": "python",
      "nbconvert_exporter": "python",
      "pygments_lexer": "ipython3",
      "version": "3.6.3"
    },
    "colab": {
      "name": "reference_finetuning_adapted.ipynb",
      "provenance": [],
      "include_colab_link": true
    },
    "accelerator": "GPU"
  },
  "cells": [
    {
      "cell_type": "markdown",
      "metadata": {
        "id": "view-in-github",
        "colab_type": "text"
      },
      "source": [
        "<a href=\"https://colab.research.google.com/github/tommy-swimmer/mlearn/blob/master/reference_finetuning_adapted.ipynb\" target=\"_parent\"><img src=\"https://colab.research.google.com/assets/colab-badge.svg\" alt=\"Open In Colab\"/></a>"
      ]
    },
    {
      "cell_type": "markdown",
      "metadata": {
        "id": "D6UTWIV4QzYB",
        "colab_type": "text"
      },
      "source": [
        "# Credit: [Csho33](https://github.com/csho33/bacteria-ID)\n",
        "\n",
        "This is code that was developed by the credited GitHub profile above. I've added some plot function and google drive functionality for my own purposes."
      ]
    },
    {
      "cell_type": "markdown",
      "metadata": {
        "id": "rZRzWKLhZtfU",
        "colab_type": "text"
      },
      "source": [
        "# Fine-tuning on the reference dataset\n",
        "In this notebook, we'll demonstrate fine-tuning a pre-trained CNN on the 30-isolate classification task shown in Figure 2. In this example, fine-tuning serves to update the CNN to new measurement parameters. This code illustrates the procedure described in the `CNN architecture & training details` section in the Methods. Note that for speed and clarity, this demo only trains on a single randomly selected train and validation split."
      ]
    },
    {
      "cell_type": "code",
      "metadata": {
        "id": "qiMdOfPHaROH",
        "colab_type": "code",
        "colab": {
          "base_uri": "https://localhost:8080/",
          "height": 122
        },
        "outputId": "830de848-289c-4c24-f357-4f388c963785"
      },
      "source": [
        "# Mounting google drive to access files. \n",
        "from google.colab import drive\n",
        "drive.mount('/content/gdrive')"
      ],
      "execution_count": null,
      "outputs": [
        {
          "output_type": "stream",
          "text": [
            "Go to this URL in a browser: https://accounts.google.com/o/oauth2/auth?client_id=947318989803-6bn6qk8qdgf4n4g3pfee6491hc0brc4i.apps.googleusercontent.com&redirect_uri=urn%3aietf%3awg%3aoauth%3a2.0%3aoob&response_type=code&scope=email%20https%3a%2f%2fwww.googleapis.com%2fauth%2fdocs.test%20https%3a%2f%2fwww.googleapis.com%2fauth%2fdrive%20https%3a%2f%2fwww.googleapis.com%2fauth%2fdrive.photos.readonly%20https%3a%2f%2fwww.googleapis.com%2fauth%2fpeopleapi.readonly\n",
            "\n",
            "Enter your authorization code:\n",
            "··········\n",
            "Mounted at /content/gdrive\n"
          ],
          "name": "stdout"
        }
      ]
    },
    {
      "cell_type": "code",
      "metadata": {
        "id": "ZpaOtMqxa4kd",
        "colab_type": "code",
        "colab": {
          "base_uri": "https://localhost:8080/",
          "height": 68
        },
        "outputId": "416f28f1-6c90-4719-a97e-2395f69c95d8"
      },
      "source": [
        "# Showing the directory where the data is housed.\n",
        "!ls /content/gdrive/'My Drive/ML Group/Datasets/data'"
      ],
      "execution_count": null,
      "outputs": [
        {
          "output_type": "stream",
          "text": [
            "wavenumbers.npy     X_finetune.npy   y_2018clinical.npy  y_reference.npy\n",
            "X_2018clinical.npy  X_reference.npy  y_2019clinical.npy  y_test.npy\n",
            "X_2019clinical.npy  X_test.npy\t     y_finetune.npy\n"
          ],
          "name": "stdout"
        }
      ]
    },
    {
      "cell_type": "code",
      "metadata": {
        "id": "RdawtB2zHppv",
        "colab_type": "code",
        "colab": {
          "base_uri": "https://localhost:8080/",
          "height": 34
        },
        "outputId": "701abe4b-9457-4f14-fb4a-68d9195ae95a"
      },
      "source": [
        "# Moving into directory where .py functions will be needed.\n",
        "% cd /content/gdrive/'My Drive/ML Group/Individual Work/Tommy/stanford_directory'"
      ],
      "execution_count": null,
      "outputs": [
        {
          "output_type": "stream",
          "text": [
            "/content/gdrive/My Drive/ML Group/Individual Work/Tommy/stanford_directory\n"
          ],
          "name": "stdout"
        }
      ]
    },
    {
      "cell_type": "code",
      "metadata": {
        "id": "wwSpAKi0Hi8C",
        "colab_type": "code",
        "colab": {
          "base_uri": "https://localhost:8080/",
          "height": 34
        },
        "outputId": "325b60b3-4705-45a8-c0a1-04a9c3b71fa3"
      },
      "source": [
        "# Verifying that directory location is correct.\n",
        "!pwd"
      ],
      "execution_count": null,
      "outputs": [
        {
          "output_type": "stream",
          "text": [
            "/content/gdrive/My Drive/ML Group/Individual Work/Tommy/stanford_directory\n"
          ],
          "name": "stdout"
        }
      ]
    },
    {
      "cell_type": "markdown",
      "metadata": {
        "id": "OTgftJxvZtfV",
        "colab_type": "text"
      },
      "source": [
        "## Loading data\n",
        "The first step is to load the fine-tuning dataset."
      ]
    },
    {
      "cell_type": "code",
      "metadata": {
        "id": "B1sTNrEoZtfW",
        "colab_type": "code",
        "colab": {}
      },
      "source": [
        "from time import time\n",
        "t00 = time()\n",
        "import numpy as np\n",
        "\n",
        "import matplotlib.pyplot as plt # I added this.\n",
        "import pandas as pd # I also added this from original."
      ],
      "execution_count": null,
      "outputs": []
    },
    {
      "cell_type": "code",
      "metadata": {
        "id": "qhMRwgziZtfa",
        "colab_type": "code",
        "colab": {
          "base_uri": "https://localhost:8080/",
          "height": 34
        },
        "outputId": "c41e05c8-a8a2-4370-d31d-67fa7438abdb"
      },
      "source": [
        "X_fn = '/content/gdrive/My Drive/ML Group/Datasets/data/X_finetune.npy'\n",
        "y_fn = '/content/gdrive/My Drive/ML Group/Datasets/data/y_finetune.npy'\n",
        "X = np.load(X_fn)\n",
        "y = np.load(y_fn)\n",
        "print(X.shape, y.shape)"
      ],
      "execution_count": null,
      "outputs": [
        {
          "output_type": "stream",
          "text": [
            "(3000, 1000) (3000,)\n"
          ],
          "name": "stdout"
        }
      ]
    },
    {
      "cell_type": "code",
      "metadata": {
        "id": "VX8crStGMcJF",
        "colab_type": "code",
        "colab": {
          "base_uri": "https://localhost:8080/",
          "height": 282
        },
        "outputId": "0b1c746a-bb18-4795-d1e5-267c83e66361"
      },
      "source": [
        "plt.plot(X[1]) # Looks like a normalized spectral data sample?"
      ],
      "execution_count": null,
      "outputs": [
        {
          "output_type": "execute_result",
          "data": {
            "text/plain": [
              "[<matplotlib.lines.Line2D at 0x7f1bf04fec88>]"
            ]
          },
          "metadata": {
            "tags": []
          },
          "execution_count": 45
        },
        {
          "output_type": "display_data",
          "data": {
            "image/png": "[encoded data removed]",
            "text/plain": [
              "<Figure size 432x288 with 1 Axes>"
            ]
          },
          "metadata": {
            "tags": [],
            "needs_background": "light"
          }
        }
      ]
    },
    {
      "cell_type": "markdown",
      "metadata": {
        "id": "MXkFopBXZtfd",
        "colab_type": "text"
      },
      "source": [
        "## Loading pre-trained CNN\n",
        "Now we set up a ResNet CNN and load weights that we previously trained for the 30-isolate task using the full training dataset. "
      ]
    },
    {
      "cell_type": "code",
      "metadata": {
        "id": "xTAFtzL-Ztfd",
        "colab_type": "code",
        "colab": {}
      },
      "source": [
        "from resnet import ResNet \n",
        "import os\n",
        "import torch"
      ],
      "execution_count": null,
      "outputs": []
    },
    {
      "cell_type": "code",
      "metadata": {
        "id": "nkXgyti1Ztfg",
        "colab_type": "code",
        "colab": {}
      },
      "source": [
        "# CNN parameters\n",
        "layers = 6\n",
        "hidden_size = 100\n",
        "block_size = 2\n",
        "hidden_sizes = [hidden_size] * layers\n",
        "num_blocks = [block_size] * layers\n",
        "input_dim = 1000\n",
        "in_channels = 64\n",
        "n_classes = 30\n",
        "os.environ['CUDA_VISIBLE_DEVICES'] = '{}'.format(0)\n",
        "cuda = torch.cuda.is_available()\n",
        "pretrain_dir = '/content/gdrive/My Drive/ML Group/Individual Work/Tommy/stanford_directory/pretrained_model.ckpt'"
      ],
      "execution_count": null,
      "outputs": []
    },
    {
      "cell_type": "code",
      "metadata": {
        "id": "UPJo8tbjZtfm",
        "colab_type": "code",
        "colab": {
          "base_uri": "https://localhost:8080/",
          "height": 34
        },
        "outputId": "12cd8a5c-8311-45fb-8b37-a9d57a255507"
      },
      "source": [
        "# Load trained weights for demo\n",
        "cnn = ResNet(hidden_sizes, num_blocks, input_dim=input_dim,\n",
        "                in_channels=in_channels, n_classes=n_classes)\n",
        "if cuda: cnn.cuda()\n",
        "cnn.load_state_dict(torch.load(\n",
        "    './pretrained_model.ckpt', map_location=lambda storage, loc: storage))"
      ],
      "execution_count": null,
      "outputs": [
        {
          "output_type": "execute_result",
          "data": {
            "text/plain": [
              "<All keys matched successfully>"
            ]
          },
          "metadata": {
            "tags": []
          },
          "execution_count": 10
        }
      ]
    },
    {
      "cell_type": "markdown",
      "metadata": {
        "id": "mMcJbZEHZtfp",
        "colab_type": "text"
      },
      "source": [
        "## Fine-tuning\n",
        "Now we can fine-tune the pre-trained CNN on the new fine-tuning dataset. In the experiments reported in the paper, we fine-tune across 5 randomly selected train and validation splits, but here we show just one split for clarity. We also only train for one epoch here in the interest of time. To train the CNN to convergence, we recommend setting the number of epochs to ~30."
      ]
    },
    {
      "cell_type": "code",
      "metadata": {
        "id": "I7bQGFMIZtfq",
        "colab_type": "code",
        "colab": {}
      },
      "source": [
        "from datasets import spectral_dataloader\n",
        "from training import run_epoch\n",
        "from torch import optim"
      ],
      "execution_count": null,
      "outputs": []
    },
    {
      "cell_type": "markdown",
      "metadata": {
        "id": "SB99TeQ_Ztfs",
        "colab_type": "text"
      },
      "source": [
        "### Train/val split\n",
        "We split the fine-tuning dataset into train and validation sets. We randomly sample 10% of the dataset to use as a validation set."
      ]
    },
    {
      "cell_type": "code",
      "metadata": {
        "id": "K39Mm6rPZtft",
        "colab_type": "code",
        "colab": {}
      },
      "source": [
        "p_val = 0.1\n",
        "n_val = int(3000 * p_val)\n",
        "idx_tr = list(range(3000))\n",
        "np.random.shuffle(idx_tr)\n",
        "idx_val = idx_tr[:n_val]\n",
        "idx_tr = idx_tr[n_val:]"
      ],
      "execution_count": null,
      "outputs": []
    },
    {
      "cell_type": "code",
      "metadata": {
        "id": "P0XkinUWZtfv",
        "colab_type": "code",
        "colab": {
          "base_uri": "https://localhost:8080/",
          "height": 748
        },
        "outputId": "acc11b4e-4573-437f-d897-9d72302e2741"
      },
      "source": [
        "# Fine-tune CNN\n",
        "epochs = 30 # Change this number to ~30 for full training\n",
        "batch_size = 10\n",
        "t0 = time()\n",
        "# Set up Adam optimizer\n",
        "optimizer = optim.Adam(cnn.parameters(), lr=1e-3, betas=(0.5, 0.999))\n",
        "# Set up dataloaders\n",
        "dl_tr = spectral_dataloader(X, y, idxs=idx_tr,\n",
        "    batch_size=batch_size, shuffle=True)\n",
        "dl_val = spectral_dataloader(X, y, idxs=idx_val,\n",
        "    batch_size=batch_size, shuffle=False)\n",
        "# Fine-tune CNN for first fold\n",
        "best_val = 0\n",
        "no_improvement = 0\n",
        "max_no_improvement = 5\n",
        "print('Starting fine-tuning!')\n",
        "for epoch in range(epochs):\n",
        "    print(' Epoch {}: {:0.2f}s'.format(epoch+1, time()-t0))\n",
        "    # Train\n",
        "    acc_tr, loss_tr = run_epoch(epoch, cnn, dl_tr, cuda,\n",
        "        training=True, optimizer=optimizer)\n",
        "    print('  Train acc: {:0.2f}'.format(acc_tr))\n",
        "    # Val\n",
        "    acc_val, loss_val = run_epoch(epoch, cnn, dl_val, cuda,\n",
        "        training=False, optimizer=optimizer)\n",
        "    print('  Val acc  : {:0.2f}'.format(acc_val))\n",
        "    # Check performance for early stopping\n",
        "    if acc_val > best_val or epoch == 0:\n",
        "        best_val = acc_val\n",
        "        no_improvement = 0\n",
        "    else:\n",
        "        no_improvement += 1\n",
        "    if no_improvement >= max_no_improvement:\n",
        "        print('Finished after {} epochs!'.format(epoch+1))\n",
        "        break\n",
        "\n",
        "print('\\n This demo was completed in: {:0.2f}s'.format(time()-t00))"
      ],
      "execution_count": null,
      "outputs": [
        {
          "output_type": "stream",
          "text": [
            "Starting fine-tuning!\n",
            " Epoch 1: 0.00s\n",
            "  Train acc: 89.41\n",
            "  Val acc  : 91.00\n",
            " Epoch 2: 7.36s\n",
            "  Train acc: 94.78\n",
            "  Val acc  : 91.67\n",
            " Epoch 3: 14.75s\n",
            "  Train acc: 97.07\n",
            "  Val acc  : 91.00\n",
            " Epoch 4: 22.29s\n",
            "  Train acc: 98.56\n",
            "  Val acc  : 90.00\n",
            " Epoch 5: 29.54s\n",
            "  Train acc: 98.93\n",
            "  Val acc  : 91.33\n",
            " Epoch 6: 36.96s\n",
            "  Train acc: 99.26\n",
            "  Val acc  : 92.00\n",
            " Epoch 7: 44.18s\n",
            "  Train acc: 99.52\n",
            "  Val acc  : 92.00\n",
            " Epoch 8: 51.53s\n",
            "  Train acc: 99.78\n",
            "  Val acc  : 94.00\n",
            " Epoch 9: 58.91s\n",
            "  Train acc: 99.70\n",
            "  Val acc  : 93.00\n",
            " Epoch 10: 66.53s\n",
            "  Train acc: 99.67\n",
            "  Val acc  : 91.33\n",
            " Epoch 11: 73.74s\n",
            "  Train acc: 98.93\n",
            "  Val acc  : 92.67\n",
            " Epoch 12: 81.03s\n",
            "  Train acc: 99.93\n",
            "  Val acc  : 93.00\n",
            " Epoch 13: 88.34s\n",
            "  Train acc: 100.00\n",
            "  Val acc  : 92.67\n",
            "Finished after 13 epochs!\n",
            "\n",
            " This demo was completed in: 186.65s\n"
          ],
          "name": "stdout"
        }
      ]
    },
    {
      "cell_type": "markdown",
      "metadata": {
        "id": "p-DmGWWZZtfy",
        "colab_type": "text"
      },
      "source": [
        "The accuracies seen here are not representative of the accuracies achieved when training on the full dataset until convergence. To do this, increase the number of epoches. This code demonstrates how a pre-trained CNN can be fine-tuned and evaluated using randomly selected train/validation splits."
      ]
    }
  ]
}